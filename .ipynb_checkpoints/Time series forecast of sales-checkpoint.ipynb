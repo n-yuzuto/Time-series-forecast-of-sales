{
 "cells": [
  {
   "cell_type": "markdown",
   "metadata": {},
   "source": [
    "## アクセスキー、シークレットキーの設定"
   ]
  },
  {
   "cell_type": "code",
   "execution_count": null,
   "metadata": {},
   "outputs": [],
   "source": [
    "import boto3\n",
    "import s3fs\n",
    "\n",
    "\n",
    "client = boto3.client(\n",
    "    'forecast',\n",
    "    region_name='ap-northeast-1',\n",
    "    aws_access_key_id = 'access_key_id ',\n",
    "    aws_secret_access_key = 'secret_access_key ',\n",
    ")"
   ]
  },
  {
   "cell_type": "markdown",
   "metadata": {},
   "source": [
    "## dataset groupの作成"
   ]
  },
  {
   "cell_type": "code",
   "execution_count": null,
   "metadata": {},
   "outputs": [],
   "source": [
    "create_dataset_group_response = client.create_dataset_group(\n",
    "    DatasetGroupName='DatasetGroupName',\n",
    "    Domain='CUSTOM',#時系列予測の方に応じて変更する\n",
    ")"
   ]
  },
  {
   "cell_type": "markdown",
   "metadata": {},
   "source": [
    "## datasetの作成"
   ]
  },
  {
   "cell_type": "code",
   "execution_count": null,
   "metadata": {},
   "outputs": [],
   "source": [
    "# 作成したデータセットグループのArnを保持\n",
    "datasetGroupArn = create_dataset_group_response['DatasetGroupArn']\n",
    "\n",
    "create_dataset_response = client.create_dataset(\n",
    "    DatasetName='DatasetName',\n",
    "    Domain='CUSTOM',\n",
    "    DatasetType='TARGET_TIME_SERIES',\n",
    "    DataFrequency='H',\n",
    "    Schema={\n",
    "        'Attributes': [\n",
    "            {\n",
    "                'AttributeName': 'timestamp',\n",
    "                'AttributeType': 'timestamp'\n",
    "            },\n",
    "            {\n",
    "                'AttributeName': 'target_value',\n",
    "                'AttributeType': 'float'\n",
    "            },\n",
    "            {\n",
    "                'AttributeName': 'item_id',\n",
    "                'AttributeType': 'string'\n",
    "            }\n",
    "        ]\n",
    "    }\n",
    ")"
   ]
  },
  {
   "cell_type": "markdown",
   "metadata": {},
   "source": [
    "## dataset groupにdatasetを登録\n",
    "\n",
    "\n"
   ]
  },
  {
   "cell_type": "code",
   "execution_count": 44,
   "metadata": {
    "scrolled": true
   },
   "outputs": [
    {
     "data": {
      "text/plain": [
       "{'ResponseMetadata': {'RequestId': 'a4541fc6-9eb3-4e49-a1dd-ba8410d56fe8',\n",
       "  'HTTPStatusCode': 200,\n",
       "  'HTTPHeaders': {'content-type': 'application/x-amz-json-1.1',\n",
       "   'date': 'Sun, 30 May 2021 04:51:28 GMT',\n",
       "   'x-amzn-requestid': 'a4541fc6-9eb3-4e49-a1dd-ba8410d56fe8',\n",
       "   'content-length': '2',\n",
       "   'connection': 'keep-alive'},\n",
       "  'RetryAttempts': 0}}"
      ]
     },
     "execution_count": 44,
     "metadata": {},
     "output_type": "execute_result"
    }
   ],
   "source": [
    "session = boto3.Session(region_name='ap-northeast-1') #場所によって変更\n",
    "forecast = session.client(service_name='forecast') \n",
    "# 作成したデータセットのArnを保持\n",
    "datasetArn = create_dataset_response['DatasetArn']\n",
    "# データセットグループにデータセットを登録\n",
    "forecast.update_dataset_group(DatasetGroupArn=datasetGroupArn, DatasetArns=[datasetArn])"
   ]
  },
  {
   "cell_type": "markdown",
   "metadata": {},
   "source": [
    "# S3バケットにアップロード"
   ]
  },
  {
   "cell_type": "markdown",
   "metadata": {},
   "source": [
    "## S3にバケットを新規登録 "
   ]
  },
  {
   "cell_type": "code",
   "execution_count": 49,
   "metadata": {},
   "outputs": [
    {
     "name": "stdout",
     "output_type": "stream",
     "text": [
      "make_bucket: forecast-from-cli\r\n"
     ]
    }
   ],
   "source": [
    "!aws s3 mb s3://bucket-name"
   ]
  },
  {
   "cell_type": "markdown",
   "metadata": {},
   "source": [
    "## バケットにファイルをアップロード"
   ]
  },
  {
   "cell_type": "code",
   "execution_count": null,
   "metadata": {},
   "outputs": [],
   "source": [
    "!aws s3 cp FileName.csv s3://bucket-name/ --acl public-read "
   ]
  },
  {
   "cell_type": "markdown",
   "metadata": {},
   "source": [
    "## dataset importの作成"
   ]
  },
  {
   "cell_type": "code",
   "execution_count": null,
   "metadata": {},
   "outputs": [],
   "source": [
    "response = client.create_dataset_import_job(\n",
    "    DatasetImportJobName='dataset_import_by_sdk',\n",
    "    DatasetArn='arn:aws:forecast:ap-northeast-1:AccountID:dataset/dataset_by_sdk',\n",
    "    DataSource={\n",
    "        'S3Config': {\n",
    "            'Path': 's3://bucket-name/FileName.csv',\n",
    "            'RoleArn': 'arn:aws:iam::AccountID:role/service-role/AmazonForecast-ExecutionRole-AccountID',\n",
    "        }\n",
    "    },\n",
    "    TimestampFormat='yyyy-MM-dd HH:mm:ss'\n",
    ")"
   ]
  },
  {
   "cell_type": "markdown",
   "metadata": {},
   "source": [
    "## predictorsの作成"
   ]
  },
  {
   "cell_type": "code",
   "execution_count": null,
   "metadata": {},
   "outputs": [],
   "source": [
    "response = client.create_predictor(\n",
    "    PredictorName='predictor_by_sdk',\n",
    "    ForecastHorizon=48,\n",
    "    PerformAutoML=True,\n",
    "    InputDataConfig={\n",
    "        'DatasetGroupArn': 'arn:aws:forecast:ap-northeast-1:AccountID:dataset-group/dataset_group_by_sdk',\n",
    "        'SupplementaryFeatures': [\n",
    "            {\n",
    "                'Name': 'holiday',\n",
    "                'Value': 'JP'\n",
    "            },\n",
    "        ]\n",
    "    },\n",
    "    FeaturizationConfig={\n",
    "        'ForecastFrequency': 'H'\n",
    "    }\n",
    ")"
   ]
  },
  {
   "cell_type": "markdown",
   "metadata": {},
   "source": [
    "## 予測の作成"
   ]
  },
  {
   "cell_type": "code",
   "execution_count": null,
   "metadata": {},
   "outputs": [],
   "source": [
    "response = client.create_forecast(\n",
    "    ForecastName='forecast_by_sdk',\n",
    "    PredictorArn='arn:aws:forecast:ap-northeast-1:AccountID:predictor/predictor_by_sdk',\n",
    "    ForecastTypes=['0.1', '0.3', '0.5', '0.7', '0.9']\n",
    ")\n"
   ]
  },
  {
   "cell_type": "markdown",
   "metadata": {},
   "source": [
    "## 予測の出力"
   ]
  },
  {
   "cell_type": "code",
   "execution_count": null,
   "metadata": {},
   "outputs": [],
   "source": [
    "response = client.create_forecast_export_job(\n",
    "    ForecastExportJobName='forecast_export_by_sdk',\n",
    "    ForecastArn='arn:aws:forecast:ap-northeast-1:AccountID:forecast/forecast_by_sdk',\n",
    "    Destination={\n",
    "        'S3Config': {\n",
    "            'Path': 's3://bucket_name/forecast-export/',\n",
    "            'RoleArn': 'arn:aws:iam::AccountID:role/service-role/AmazonForecast-ExecutionRole-AccountID'\n",
    "        }\n",
    "    }\n",
    ")"
   ]
  },
  {
   "cell_type": "markdown",
   "metadata": {},
   "source": [
    "## predictorsの詳細の出力"
   ]
  },
  {
   "cell_type": "code",
   "execution_count": null,
   "metadata": {},
   "outputs": [],
   "source": [
    "#AutoMLを利用した際は、他のアルゴリズムのメトリクスを取得できる\n",
    "from pprint import pprint\n",
    "\n",
    "response = client.get_accuracy_metrics(\n",
    "    PredictorArn='arn:aws:forecast:ap-northeast-1:AccountID:predictor/predictor_by_sdk'\n",
    ")\n",
    "pprint(response['PredictorEvaluationResults'])"
   ]
  },
  {
   "cell_type": "markdown",
   "metadata": {},
   "source": [
    "## Forecast lookup"
   ]
  },
  {
   "cell_type": "code",
   "execution_count": null,
   "metadata": {},
   "outputs": [],
   "source": [
    "from pprint import pprint\n",
    "\n",
    "client = boto3.client(\n",
    "    'forecastquery',\n",
    "    region_name='ap-northeast-1',\n",
    "    aws_access_key_id = 'access_key_id',\n",
    "    aws_secret_access_key = 'secret_access_key',\n",
    ")\n",
    "\n",
    "response = client.query_forecast(\n",
    "    ForecastArn='arn:aws:forecast:ap-northeast-1:AccountID:forecast/forecast_name',\n",
    "    Filters={\n",
    "        'item_id': 'client_1'\n",
    "    }\n",
    ")\n",
    "\n",
    "pprint(response['Forecast']['Predictions'])"
   ]
  },
  {
   "cell_type": "markdown",
   "metadata": {},
   "source": [
    "## グラフ化"
   ]
  },
  {
   "cell_type": "code",
   "execution_count": null,
   "metadata": {},
   "outputs": [],
   "source": [
    "import matplotlib.pyplot as plt\n",
    "import numpy as np\n",
    "\n",
    "client = boto3.client(\n",
    "    'forecastquery',\n",
    "    region_name='ap-northeast-1',\n",
    "    aws_access_key_id = 'access_key_id',\n",
    "    aws_secret_access_key = 'secret_access_key',\n",
    ")\n",
    "\n",
    "response = client.query_forecast(\n",
    "    ForecastArn='arn:aws:forecast:ap-northeast-1:AccountID:forecast/forecast_name',\n",
    "    Filters={\n",
    "        'item_id': 'client_1'\n",
    "    }\n",
    ")\n",
    "\n",
    "x = np.array([x['Timestamp'] for x in response['Forecast']['Predictions']['p10']])\n",
    "p10y = np.array([p10['Value'] for p10 in response['Forecast']['Predictions']['p10']])\n",
    "p30y = np.array([p30['Value'] for p30 in response['Forecast']['Predictions']['p30']])\n",
    "p50y = np.array([p50['Value'] for p50 in response['Forecast']['Predictions']['p50']])\n",
    "p70y = np.array([p70['Value'] for p70 in response['Forecast']['Predictions']['p70']])\n",
    "p90y = np.array([p90['Value'] for p90 in response['Forecast']['Predictions']['p90']])\n",
    "\n",
    "plt.plot(x, p10y, 'blue', label='p10')\n",
    "plt.plot(x, p30y, 'green', label='p30')\n",
    "plt.plot(x, p50y, 'yellow', label='p50')\n",
    "plt.plot(x, p70y, 'orange', label='p70')\n",
    "plt.plot(x, p90y, 'red', label='p90')\n",
    "\n",
    "plt.legend()\n",
    "plt.show()"
   ]
  }
 ],
 "metadata": {
  "kernelspec": {
   "display_name": "Python 3",
   "language": "python",
   "name": "python3"
  },
  "language_info": {
   "codemirror_mode": {
    "name": "ipython",
    "version": 3
   },
   "file_extension": ".py",
   "mimetype": "text/x-python",
   "name": "python",
   "nbconvert_exporter": "python",
   "pygments_lexer": "ipython3",
   "version": "3.8.5"
  }
 },
 "nbformat": 4,
 "nbformat_minor": 4
}
